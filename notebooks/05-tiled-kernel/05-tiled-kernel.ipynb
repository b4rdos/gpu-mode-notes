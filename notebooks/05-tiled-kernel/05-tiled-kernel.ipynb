{
  "cells": [
    {
      "cell_type": "markdown",
      "id": "7e1d7ad8",
      "metadata": {
        "id": "7e1d7ad8"
      },
      "source": [
        "# Tiled Kernel\n",
        "The notebook follows the video from GPU Mode:\n",
        "\n",
        "[Lecture 5: Going Further with CUDA for Python Programmers](https://www.youtube.com/watch?v=wVsR-YhaHlM)"
      ]
    },
    {
      "cell_type": "code",
      "execution_count": null,
      "id": "d37b7d85",
      "metadata": {
        "vscode": {
          "languageId": "plaintext"
        },
        "id": "d37b7d85"
      },
      "outputs": [],
      "source": [
        "!pip install ninja"
      ]
    },
    {
      "cell_type": "code",
      "execution_count": null,
      "id": "d9975e46",
      "metadata": {
        "vscode": {
          "languageId": "plaintext"
        },
        "id": "d9975e46"
      },
      "outputs": [],
      "source": [
        "!nvidia-smi"
      ]
    },
    {
      "cell_type": "code",
      "execution_count": null,
      "id": "0b8b000c",
      "metadata": {
        "vscode": {
          "languageId": "plaintext"
        },
        "id": "0b8b000c"
      },
      "outputs": [],
      "source": [
        "def in_colab() -> bool:\n",
        "    try:\n",
        "        import google.colab\n",
        "        return True\n",
        "    except ImportError:\n",
        "        return False\n",
        "\n",
        "\n",
        "IN_COLAB = in_colab()"
      ]
    },
    {
      "cell_type": "code",
      "source": [
        "import numpy as np"
      ],
      "metadata": {
        "id": "30qFjM1c5loE"
      },
      "id": "30qFjM1c5loE",
      "execution_count": null,
      "outputs": []
    },
    {
      "cell_type": "code",
      "source": [
        "np.random.seed(20250811)\n",
        "\n",
        "a = np.random.rand(16, 8)\n",
        "b = np.random.rand(8, 8)\n",
        "ab = a @ b"
      ],
      "metadata": {
        "id": "r7z87dMr5xik"
      },
      "id": "r7z87dMr5xik",
      "execution_count": null,
      "outputs": []
    },
    {
      "cell_type": "code",
      "source": [
        "from dataclasses import dataclass\n",
        "\n",
        "@dataclass\n",
        "class Dim3:\n",
        "    x: int = 0\n",
        "    y: int = 0\n",
        "    z: int = 0\n",
        "\n",
        "# Dim3 = namedtuple(\"Dim3\", [\"x\", \"y\", \"z\"])"
      ],
      "metadata": {
        "id": "3-2jttQR6gP8"
      },
      "id": "3-2jttQR6gP8",
      "execution_count": null,
      "outputs": []
    },
    {
      "cell_type": "code",
      "source": [
        "from math import ceil\n",
        "TW = 4\n",
        "TS = 4\n",
        "block_size = Dim3(\n",
        "    x=ceil(b.shape[1] / TS),\n",
        "    y=ceil(a.shape[0] / TS),\n",
        ")\n",
        "thread_size = Dim3(x=TS, y=TS)\n",
        "\n",
        "\n",
        "def tiled_kernel(block_dim: Dim3, thread_dim: Dim3, thread_size: Dim3, signalb, m, n, res, r, c, k, mem):\n",
        "    bx = block_dim.x * thread_size.x\n",
        "    tx = thread_dim.x\n",
        "    cc = bx + tx\n",
        "    by = block_dim.y * thread_size.y\n",
        "    ty = thread_dim.y\n",
        "    cr = by + ty\n",
        "    if cr >= r or cc >= c:\n",
        "        return None\n",
        "\n",
        "    # print(f\"{(bx, by, tx, ty) = }\")\n",
        "\n",
        "    mm = mem[:TW*TW]\n",
        "    mn = mem[TW*TW:]\n",
        "    for ph in range(ceil(k / TW)):\n",
        "        # copy to memory\n",
        "        for tw in range(TW):\n",
        "            mm[ty * TW + tw] = m[ph * TW + tw + cr * k]\n",
        "            mn[tx * TW + tw] = n[(ph *  TW + tw) * c + cc]\n",
        "\n",
        "        # s = signalb.wait()\n",
        "        # if s == TW * TW - 1:\n",
        "        #     print(f\"{(ph, bx, by, tx, ty) = }\")\n",
        "        #     print(\"mm\", mm, \"mn\", mn, sep=\"\\n\")\n",
        "        signalb.wait()\n",
        "        # matmul\n",
        "        for i in range(TW):\n",
        "            res[cr * k + cc] += mm[ty * TW + i] * mn[tx * TW + i]\n",
        "        signalb.wait()\n",
        "    return None"
      ],
      "metadata": {
        "id": "4TK-e31U6Rk9"
      },
      "id": "4TK-e31U6Rk9",
      "execution_count": null,
      "outputs": []
    },
    {
      "cell_type": "markdown",
      "source": [
        "### Debug"
      ],
      "metadata": {
        "id": "EYv9aQc86Vf8"
      },
      "id": "EYv9aQc86Vf8"
    },
    {
      "cell_type": "code",
      "source": [
        "mem = np.zeros((2 * TW, TW)).ravel()\n",
        "\n",
        "mm = mem[:TW*TW]\n",
        "mn = mem[TW*TW:]"
      ],
      "metadata": {
        "id": "-VoibSzb3k4W"
      },
      "id": "-VoibSzb3k4W",
      "execution_count": null,
      "outputs": []
    },
    {
      "cell_type": "code",
      "source": [
        "m = a.ravel()\n",
        "n = b.ravel()\n",
        "r, k = a.shape\n",
        "c = b.shape[1]\n",
        "res = np.zeros((r, c)).ravel()\n",
        "\n",
        "\n",
        "bd = Dim3(x=0, y=0)\n",
        "td = Dim3(x=3, y=0)\n",
        "ts = Dim3(x=TS, y=TS)\n",
        "by = bd.y * ts.y\n",
        "ty = td.y\n",
        "cr = by + ty\n",
        "bx = bd.x * ts.x\n",
        "tx = td.x\n",
        "cc = bx + tx\n",
        "ph = 0\n",
        "tw = 0\n",
        "for _y in range(TS):\n",
        "    for _x in range(TS):\n",
        "        td = Dim3(x=_x, y=_y)\n",
        "        ty = td.y\n",
        "        cr = by + ty\n",
        "        tx = td.x\n",
        "        cc = bx + tx\n",
        "        for tw in range(TW):\n",
        "            mm[ty * TW + tw] = m[ph * TW + tw + cr * k]\n",
        "            mn[tx * TW + tw] = n[(ph *  TW + tw) * c + cc]\n",
        "for _y in range(TS):\n",
        "    for _x in range(TS):\n",
        "        td = Dim3(x=_x, y=_y)\n",
        "        ty = td.y\n",
        "        cr = by + ty\n",
        "        tx = td.x\n",
        "        cc = bx + tx\n",
        "        for tw in range(TW):\n",
        "            res[cr * k + cc] += mm[ty * TW + tw] * mn[tx * TW + tw]\n"
      ],
      "metadata": {
        "id": "B0zzCSGCzhP6"
      },
      "id": "B0zzCSGCzhP6",
      "execution_count": null,
      "outputs": []
    },
    {
      "cell_type": "code",
      "source": [
        "mm.reshape(TW, TW) @ mn.reshape(TW, TW).T"
      ],
      "metadata": {
        "id": "08tOibug5jP0"
      },
      "id": "08tOibug5jP0",
      "execution_count": null,
      "outputs": []
    },
    {
      "cell_type": "code",
      "source": [
        "res.reshape(r, c)[:TW, :TW]"
      ],
      "metadata": {
        "id": "UlrlRh7K5th3"
      },
      "id": "UlrlRh7K5th3",
      "execution_count": null,
      "outputs": []
    },
    {
      "cell_type": "code",
      "source": [
        "mm.reshape(TW, TW)"
      ],
      "metadata": {
        "id": "yC8SnCLf4W1g"
      },
      "id": "yC8SnCLf4W1g",
      "execution_count": null,
      "outputs": []
    },
    {
      "cell_type": "code",
      "source": [
        "mn.reshape(TW, TW)"
      ],
      "metadata": {
        "id": "_R3uAN9u4YK2"
      },
      "id": "_R3uAN9u4YK2",
      "execution_count": null,
      "outputs": []
    },
    {
      "cell_type": "code",
      "source": [
        "a[:TW, :TW]"
      ],
      "metadata": {
        "id": "csHC__xL4gLH"
      },
      "id": "csHC__xL4gLH",
      "execution_count": null,
      "outputs": []
    },
    {
      "cell_type": "code",
      "source": [
        "b[:TW, :TW]"
      ],
      "metadata": {
        "id": "JNDVf6sc4jOG"
      },
      "id": "JNDVf6sc4jOG",
      "execution_count": null,
      "outputs": []
    },
    {
      "cell_type": "code",
      "source": [
        "a[cr, ph * TW:ph * TW + TW]"
      ],
      "metadata": {
        "id": "h6KC2mPm2uMb"
      },
      "id": "h6KC2mPm2uMb",
      "execution_count": null,
      "outputs": []
    },
    {
      "cell_type": "code",
      "source": [
        "b[ph * TW: ph * TW + TW, cc]"
      ],
      "metadata": {
        "id": "mBHoPDpt2eL5"
      },
      "id": "mBHoPDpt2eL5",
      "execution_count": null,
      "outputs": []
    },
    {
      "cell_type": "markdown",
      "source": [
        "## Example with barrier semaphore"
      ],
      "metadata": {
        "id": "dsjhO-jWe0qS"
      },
      "id": "dsjhO-jWe0qS"
    },
    {
      "cell_type": "code",
      "source": [
        "import string\n",
        "import time\n",
        "\n",
        "from itertools import cycle, islice\n",
        "from concurrent.futures import ThreadPoolExecutor\n",
        "from threading import Barrier\n",
        "\n",
        "def print_thread_id(letter, buffer, signalb):\n",
        "    idx = signalb.wait()\n",
        "    buffer[idx] = letter\n",
        "    signalb.wait()\n",
        "    if idx == 0:\n",
        "        print(\"\".join(buffer))\n",
        "    time.sleep(1)\n",
        "    \"\"\"Prints the ID of the current thread.\"\"\"\n",
        "    # print(f\"Thread ID: {threading.get_ident()}\")\n",
        "\n",
        "# Create a ThreadPoolExecutor with 10 threads\n",
        "_nw = 16\n",
        "with ThreadPoolExecutor(max_workers=_nw) as executor:\n",
        "    # Submit the print_thread_id function to the executor 10 times\n",
        "    signalb = Barrier(_nw)\n",
        "    buffer = _nw * [\"\"]\n",
        "    for letter in islice(cycle(string.ascii_letters), 10 * _nw):\n",
        "        executor.submit(print_thread_id, letter, buffer, signalb)"
      ],
      "metadata": {
        "id": "f4Ye9qQtWV5Z"
      },
      "id": "f4Ye9qQtWV5Z",
      "execution_count": null,
      "outputs": []
    },
    {
      "cell_type": "markdown",
      "source": [
        "## Runner"
      ],
      "metadata": {
        "id": "Mcq0vCeM6elw"
      },
      "id": "Mcq0vCeM6elw"
    },
    {
      "cell_type": "code",
      "source": [
        "def threaded_2d_runner(block_size, thread_size, fn, *args):\n",
        "    mw = thread_size.x  * thread_size.y\n",
        "    # print(mw)\n",
        "    for by in range(block_size.y):\n",
        "        for bx in range(block_size.x):\n",
        "            with ThreadPoolExecutor(max_workers=mw) as executor:\n",
        "                singalb = Barrier(mw)\n",
        "                for ty in range(thread_size.y):\n",
        "                    for tx in range(thread_size.x):\n",
        "                        executor.submit(fn, Dim3(x=bx, y=by), Dim3(x=tx, y=ty), thread_size, signalb, *args)"
      ],
      "metadata": {
        "id": "gMgIt1GEYnJx"
      },
      "id": "gMgIt1GEYnJx",
      "execution_count": null,
      "outputs": []
    },
    {
      "cell_type": "markdown",
      "source": [
        "## Run Test"
      ],
      "metadata": {
        "id": "8lhHi09z6hAq"
      },
      "id": "8lhHi09z6hAq"
    },
    {
      "cell_type": "code",
      "source": [
        "ar, ak = a.shape\n",
        "bk, bc = b.shape\n",
        "res_ab = np.zeros((ar, bc))\n",
        "mem = np.zeros((2 * TW, TW))"
      ],
      "metadata": {
        "id": "LVBxEyBohCXC"
      },
      "id": "LVBxEyBohCXC",
      "execution_count": null,
      "outputs": []
    },
    {
      "cell_type": "code",
      "source": [
        "threaded_2d_runner(block_size, thread_size, tiled_kernel, a.flatten(), b.flatten(), res_ab.ravel(), ar, bc, ak, mem.ravel())"
      ],
      "metadata": {
        "id": "HTK27VEvhour"
      },
      "id": "HTK27VEvhour",
      "execution_count": null,
      "outputs": []
    },
    {
      "cell_type": "code",
      "source": [
        "assert np.allclose(ab, res_ab)"
      ],
      "metadata": {
        "id": "3smgFsbdjFm2"
      },
      "id": "3smgFsbdjFm2",
      "execution_count": null,
      "outputs": []
    },
    {
      "cell_type": "markdown",
      "source": [
        "## Translate to CUDA\n",
        "\n",
        "We will follow some parts from the previous example"
      ],
      "metadata": {
        "id": "pRYeGlCr7ELL"
      },
      "id": "pRYeGlCr7ELL"
    },
    {
      "cell_type": "markdown",
      "source": [
        "## Numba\n",
        "\n",
        "Numba python library allows for cuda kernel development in python with some extra tools."
      ],
      "metadata": {
        "id": "x-idoIKh65bZ"
      },
      "id": "x-idoIKh65bZ"
    },
    {
      "cell_type": "code",
      "source": [
        "from math import ceil\n",
        "\n",
        "import numpy as np\n",
        "import torch\n",
        "\n",
        "from numba import cuda\n",
        "from numba.cuda import as_cuda_array as ca"
      ],
      "metadata": {
        "id": "O5NQSx5B63nE"
      },
      "id": "O5NQSx5B63nE",
      "execution_count": null,
      "outputs": []
    },
    {
      "cell_type": "code",
      "source": [
        "@cuda.jit\n",
        "def matmul_k(m, n, out, tw):\n",
        "    cbi, cbd, cti = cuda.blockIdx, cuda.blockDim, cuda.threadIdx\n",
        "    # print(f\"{bid = }, {bs = }, {tid = }\")\n",
        "    cr = cbi.y * cbd.y + cti.y\n",
        "    cc = cbi.x * cbd.x + cti.x\n",
        "    r, mk = m.shape\n",
        "    k, c = m.shape\n",
        "    if cr >= r or cc >= c:\n",
        "        return None\n",
        "    shared_mem = cuda.shared.array(0, dtype=np.float32)\n",
        "    mm = shared_mem[:tw*tw]\n",
        "    mn = shared_mem[tw*tw:2*tw*tw]\n",
        "    for ph in range(ceil(k / tw)):\n",
        "        idx = tw * ph\n",
        "        mm[tw * cti.y + cti.x] = m[cr, cti.x + idx] if cr < r and idx + cti.x < k else 0.0\n",
        "        mn[tw * cti.x + cti.y] = n[cti.y + idx, cc] if cc < c and idx + cti.y < k else 0.0\n",
        "        cuda.syncthreads()\n",
        "        p = np.float32(0.0)\n",
        "        for i in range(tw):\n",
        "            p += mm[cti.y * tw + i] * mn[cti.x * tw + i]\n",
        "        cuda.syncthreads()\n",
        "    if cr < r and cc < c:\n",
        "        out[cr, cc] = p\n",
        "    return None\n",
        "\n",
        "\n",
        "def matmul(m, n, tw=16):\n",
        "    r, mk = m.shape\n",
        "    k, c = n.shape\n",
        "    assert mk == k, \"Incompatible dimensions\"\n",
        "    out = torch.zeros((r, c), dtype=m.dtype, device=m.device)\n",
        "    block_size = (ceil(c / tw), ceil(r / tw))\n",
        "    thread_size = (tw, tw)\n",
        "    dynamic_shared_mem_size = 2 * tw * tw\n",
        "    matmul_k[block_size, thread_size, 0, dynamic_shared_mem_size](ca(m), ca(n), ca(out), tw)\n",
        "    return out"
      ],
      "metadata": {
        "id": "4JHN9_lTHK3j"
      },
      "id": "4JHN9_lTHK3j",
      "execution_count": null,
      "outputs": []
    },
    {
      "cell_type": "code",
      "source": [
        "a = torch.randn(1024, 64)\n",
        "b = torch.randn(64, 128)\n",
        "ab = a @ b"
      ],
      "metadata": {
        "id": "AanAuPg5SRFz"
      },
      "id": "AanAuPg5SRFz",
      "execution_count": null,
      "outputs": []
    },
    {
      "cell_type": "code",
      "source": [
        "nab = matmul(a.cuda(), b.cuda())"
      ],
      "metadata": {
        "id": "4pQjZN83K33a"
      },
      "id": "4pQjZN83K33a",
      "execution_count": null,
      "outputs": []
    }
  ],
  "metadata": {
    "language_info": {
      "name": "python"
    },
    "colab": {
      "provenance": [],
      "gpuType": "T4"
    },
    "kernelspec": {
      "name": "python3",
      "display_name": "Python 3"
    },
    "accelerator": "GPU"
  },
  "nbformat": 4,
  "nbformat_minor": 5
}