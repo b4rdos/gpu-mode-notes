{
 "cells": [
  {
   "cell_type": "markdown",
   "id": "0eba1fa1",
   "metadata": {},
   "source": [
    "# Writing CUDA kernels in Python\n",
    "\n",
    "In this session we learn about how we can write simple kernels in python, translate them into C++ code using an LLM and leverage pytorch's tool to compile the kernel into a module we can load and execute from python.\n",
    "\n",
    "Video link: https://www.youtube.com/watch?v=4sgKnKbR-WE\n",
    "\n",
    "[![Open In Colab](https://colab.research.google.com/assets/colab-badge.svg)](https://colab.research.google.com/github/b4rdos/gpu-mode-notes/blob/master/notebooks/03-kernels-in-pythono.ipynb)"
   ]
  },
  {
   "cell_type": "markdown",
   "id": "ba2be39a",
   "metadata": {},
   "source": []
  }
 ],
 "metadata": {
  "language_info": {
   "name": "python"
  }
 },
 "nbformat": 4,
 "nbformat_minor": 5
}
