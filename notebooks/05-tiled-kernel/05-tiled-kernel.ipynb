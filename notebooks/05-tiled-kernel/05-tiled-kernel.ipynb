{
 "cells": [
  {
   "cell_type": "markdown",
   "id": "7e1d7ad8",
   "metadata": {},
   "source": [
    "# Tiled Kernel\n",
    "The notebook follows the video from GPU Mode: \n",
    "\n",
    "[Lecture 5: Going Further with CUDA for Python Programmers](https://www.youtube.com/watch?v=wVsR-YhaHlM)"
   ]
  },
  {
   "cell_type": "code",
   "execution_count": null,
   "id": "d37b7d85",
   "metadata": {
    "vscode": {
     "languageId": "plaintext"
    }
   },
   "outputs": [],
   "source": [
    "!pip install ninja"
   ]
  },
  {
   "cell_type": "code",
   "execution_count": null,
   "id": "d9975e46",
   "metadata": {
    "vscode": {
     "languageId": "plaintext"
    }
   },
   "outputs": [],
   "source": [
    "!nvidia-smi"
   ]
  },
  {
   "cell_type": "code",
   "execution_count": null,
   "id": "0b8b000c",
   "metadata": {
    "vscode": {
     "languageId": "plaintext"
    }
   },
   "outputs": [],
   "source": [
    "def in_colab() -> bool:\n",
    "    try:\n",
    "        import google.colab\n",
    "        return True\n",
    "    except ImportError:\n",
    "        return False\n",
    "\n",
    "\n",
    "IN_COLAB = in_colab()"
   ]
  }
 ],
 "metadata": {
  "language_info": {
   "name": "python"
  }
 },
 "nbformat": 4,
 "nbformat_minor": 5
}
