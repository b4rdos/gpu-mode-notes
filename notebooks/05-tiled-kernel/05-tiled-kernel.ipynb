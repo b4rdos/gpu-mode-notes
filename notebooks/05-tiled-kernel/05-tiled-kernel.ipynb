{
  "cells": [
    {
      "cell_type": "markdown",
      "id": "7e1d7ad8",
      "metadata": {
        "id": "7e1d7ad8"
      },
      "source": [
        "# Tiled Kernel\n",
        "The notebook follows the video from GPU Mode:\n",
        "\n",
        "[Lecture 5: Going Further with CUDA for Python Programmers](https://www.youtube.com/watch?v=wVsR-YhaHlM)"
      ]
    },
    {
      "cell_type": "code",
      "execution_count": null,
      "id": "d37b7d85",
      "metadata": {
        "vscode": {
          "languageId": "plaintext"
        },
        "id": "d37b7d85"
      },
      "outputs": [],
      "source": [
        "!pip install ninja"
      ]
    },
    {
      "cell_type": "code",
      "execution_count": null,
      "id": "d9975e46",
      "metadata": {
        "vscode": {
          "languageId": "plaintext"
        },
        "id": "d9975e46"
      },
      "outputs": [],
      "source": [
        "!nvidia-smi"
      ]
    },
    {
      "cell_type": "code",
      "execution_count": null,
      "id": "0b8b000c",
      "metadata": {
        "vscode": {
          "languageId": "plaintext"
        },
        "id": "0b8b000c"
      },
      "outputs": [],
      "source": [
        "def in_colab() -> bool:\n",
        "    try:\n",
        "        import google.colab\n",
        "        return True\n",
        "    except ImportError:\n",
        "        return False\n",
        "\n",
        "\n",
        "IN_COLAB = in_colab()"
      ]
    },
    {
      "cell_type": "code",
      "source": [
        "import numpy as np"
      ],
      "metadata": {
        "id": "30qFjM1c5loE"
      },
      "id": "30qFjM1c5loE",
      "execution_count": 1,
      "outputs": []
    },
    {
      "cell_type": "code",
      "source": [
        "np.random.seed(20250811)\n",
        "\n",
        "a = np.random.rand(16, 8)\n",
        "b = np.random.rand(8, 8)\n",
        "ab = a @ b"
      ],
      "metadata": {
        "id": "r7z87dMr5xik"
      },
      "id": "r7z87dMr5xik",
      "execution_count": 89,
      "outputs": []
    },
    {
      "cell_type": "code",
      "source": [
        "from dataclasses import dataclass\n",
        "\n",
        "@dataclass\n",
        "class Dim3:\n",
        "    x: int = 0\n",
        "    y: int = 0\n",
        "    z: int = 0\n",
        "\n",
        "# Dim3 = namedtuple(\"Dim3\", [\"x\", \"y\", \"z\"])"
      ],
      "metadata": {
        "id": "3-2jttQR6gP8"
      },
      "id": "3-2jttQR6gP8",
      "execution_count": 90,
      "outputs": []
    },
    {
      "cell_type": "code",
      "source": [
        "from math import ceil\n",
        "TW = 4\n",
        "TS = 4\n",
        "block_size = Dim3(\n",
        "    x=ceil(b.shape[1] / TS),\n",
        "    y=ceil(a.shape[0] / TS),\n",
        ")\n",
        "thread_size = Dim3(x=TS, y=TS)\n",
        "\n",
        "\n",
        "def tiled_kernel(block_dim: Dim3, thread_dim: Dim3, thread_size: Dim3, signalb, m, n, res, r, c, k, mem):\n",
        "    bx = block_dim.x * thread_size.x\n",
        "    tx = thread_dim.x\n",
        "    cc = bx + tx\n",
        "    by = block_dim.y * thread_size.y\n",
        "    ty = thread_dim.y\n",
        "    cr = by + ty\n",
        "    if cr >= r or cc >= c:\n",
        "        return None\n",
        "\n",
        "    # print(f\"{(bx, by, tx, ty) = }\")\n",
        "\n",
        "    mm = mem[:TW*TW]\n",
        "    mn = mem[TW*TW:]\n",
        "    for ph in range(ceil(k / TW)):\n",
        "        # copy to memory\n",
        "        for tw in range(TW):\n",
        "            mm[ty * TW + tw] = m[ph * TW + tw + cr * k]\n",
        "            mn[tx * TW + tw] = n[(ph *  TW + tw) * c + cc]\n",
        "\n",
        "        # s = signalb.wait()\n",
        "        # if s == TW * TW - 1:\n",
        "        #     print(f\"{(ph, bx, by, tx, ty) = }\")\n",
        "        #     print(\"mm\", mm, \"mn\", mn, sep=\"\\n\")\n",
        "        signalb.wait()\n",
        "        # matmul\n",
        "        for i in range(TW):\n",
        "            res[cr * k + cc] += mm[ty * TW + i] * mn[tx * TW + i]\n",
        "        signalb.wait()\n",
        "    return None"
      ],
      "metadata": {
        "id": "4TK-e31U6Rk9"
      },
      "id": "4TK-e31U6Rk9",
      "execution_count": 174,
      "outputs": []
    },
    {
      "cell_type": "markdown",
      "source": [
        "### Debug"
      ],
      "metadata": {
        "id": "EYv9aQc86Vf8"
      },
      "id": "EYv9aQc86Vf8"
    },
    {
      "cell_type": "code",
      "source": [
        "mem = np.zeros((2 * TW, TW)).ravel()\n",
        "\n",
        "mm = mem[:TW*TW]\n",
        "mn = mem[TW*TW:]"
      ],
      "metadata": {
        "id": "-VoibSzb3k4W"
      },
      "id": "-VoibSzb3k4W",
      "execution_count": 149,
      "outputs": []
    },
    {
      "cell_type": "code",
      "source": [
        "m = a.ravel()\n",
        "n = b.ravel()\n",
        "r, k = a.shape\n",
        "c = b.shape[1]\n",
        "res = np.zeros((r, c)).ravel()\n",
        "\n",
        "\n",
        "bd = Dim3(x=0, y=0)\n",
        "td = Dim3(x=3, y=0)\n",
        "ts = Dim3(x=TS, y=TS)\n",
        "by = bd.y * ts.y\n",
        "ty = td.y\n",
        "cr = by + ty\n",
        "bx = bd.x * ts.x\n",
        "tx = td.x\n",
        "cc = bx + tx\n",
        "ph = 0\n",
        "tw = 0\n",
        "for _y in range(TS):\n",
        "    for _x in range(TS):\n",
        "        td = Dim3(x=_x, y=_y)\n",
        "        ty = td.y\n",
        "        cr = by + ty\n",
        "        tx = td.x\n",
        "        cc = bx + tx\n",
        "        for tw in range(TW):\n",
        "            mm[ty * TW + tw] = m[ph * TW + tw + cr * k]\n",
        "            mn[tx * TW + tw] = n[(ph *  TW + tw) * c + cc]\n",
        "for _y in range(TS):\n",
        "    for _x in range(TS):\n",
        "        td = Dim3(x=_x, y=_y)\n",
        "        ty = td.y\n",
        "        cr = by + ty\n",
        "        tx = td.x\n",
        "        cc = bx + tx\n",
        "        for tw in range(TW):\n",
        "            res[cr * k + cc] += mm[ty * TW + tw] * mn[tx * TW + tw]\n"
      ],
      "metadata": {
        "id": "B0zzCSGCzhP6"
      },
      "id": "B0zzCSGCzhP6",
      "execution_count": 159,
      "outputs": []
    },
    {
      "cell_type": "code",
      "source": [
        "mm.reshape(TW, TW) @ mn.reshape(TW, TW).T"
      ],
      "metadata": {
        "id": "08tOibug5jP0",
        "outputId": "69ce3aa8-d405-4f83-a1d2-6992b1a16016",
        "colab": {
          "base_uri": "https://localhost:8080/"
        }
      },
      "id": "08tOibug5jP0",
      "execution_count": 161,
      "outputs": [
        {
          "output_type": "execute_result",
          "data": {
            "text/plain": [
              "array([[1.06554023, 1.11686943, 1.63775982, 0.6493336 ],\n",
              "       [1.10830571, 0.80540097, 1.42044116, 0.4881563 ],\n",
              "       [1.19189501, 1.26205455, 1.44170766, 0.57801085],\n",
              "       [0.8931771 , 0.41487311, 0.93973794, 0.31899231]])"
            ]
          },
          "metadata": {},
          "execution_count": 161
        }
      ]
    },
    {
      "cell_type": "code",
      "source": [
        "res.reshape(r, c)[:TW, :TW]"
      ],
      "metadata": {
        "id": "UlrlRh7K5th3",
        "outputId": "d7645c92-f2d9-4f09-b456-4c4df712bf5a",
        "colab": {
          "base_uri": "https://localhost:8080/"
        }
      },
      "id": "UlrlRh7K5th3",
      "execution_count": 162,
      "outputs": [
        {
          "output_type": "execute_result",
          "data": {
            "text/plain": [
              "array([[1.06554023, 1.11686943, 1.63775982, 0.6493336 ],\n",
              "       [1.10830571, 0.80540097, 1.42044116, 0.4881563 ],\n",
              "       [1.19189501, 1.26205455, 1.44170766, 0.57801085],\n",
              "       [0.8931771 , 0.41487311, 0.93973794, 0.31899231]])"
            ]
          },
          "metadata": {},
          "execution_count": 162
        }
      ]
    },
    {
      "cell_type": "code",
      "source": [
        "mm.reshape(TW, TW)"
      ],
      "metadata": {
        "id": "yC8SnCLf4W1g",
        "outputId": "0d22d5b6-2c65-4afb-a7e4-fca8528b429d",
        "colab": {
          "base_uri": "https://localhost:8080/"
        }
      },
      "id": "yC8SnCLf4W1g",
      "execution_count": 154,
      "outputs": [
        {
          "output_type": "execute_result",
          "data": {
            "text/plain": [
              "array([[0.95283869, 0.19909693, 0.61565322, 0.45036136],\n",
              "       [0.71062673, 0.22816761, 0.77238406, 0.09294921],\n",
              "       [0.20585563, 0.93649271, 0.38760235, 0.48786585],\n",
              "       [0.21317821, 0.15344169, 0.75795885, 0.04850594]])"
            ]
          },
          "metadata": {},
          "execution_count": 154
        }
      ]
    },
    {
      "cell_type": "code",
      "source": [
        "mn.reshape(TW, TW)"
      ],
      "metadata": {
        "id": "_R3uAN9u4YK2",
        "outputId": "2f1c4c38-72c9-446c-eb81-7de2805e0321",
        "colab": {
          "base_uri": "https://localhost:8080/"
        }
      },
      "id": "_R3uAN9u4YK2",
      "execution_count": 153,
      "outputs": [
        {
          "output_type": "execute_result",
          "data": {
            "text/plain": [
              "array([[0.27989922, 0.73731592, 0.93999189, 0.16283601],\n",
              "       [0.60145317, 0.82840753, 0.17167709, 0.60652322],\n",
              "       [0.78299314, 0.75942617, 0.83356969, 0.50471555],\n",
              "       [0.26046591, 0.23095293, 0.27438072, 0.41354838]])"
            ]
          },
          "metadata": {},
          "execution_count": 153
        }
      ]
    },
    {
      "cell_type": "code",
      "source": [
        "a[:TW, :TW]"
      ],
      "metadata": {
        "id": "csHC__xL4gLH",
        "outputId": "6c89bf99-e17d-4619-c5ea-d1e3e0bdefa4",
        "colab": {
          "base_uri": "https://localhost:8080/"
        }
      },
      "id": "csHC__xL4gLH",
      "execution_count": 155,
      "outputs": [
        {
          "output_type": "execute_result",
          "data": {
            "text/plain": [
              "array([[0.95283869, 0.19909693, 0.61565322, 0.45036136],\n",
              "       [0.71062673, 0.22816761, 0.77238406, 0.09294921],\n",
              "       [0.20585563, 0.93649271, 0.38760235, 0.48786585],\n",
              "       [0.21317821, 0.15344169, 0.75795885, 0.04850594]])"
            ]
          },
          "metadata": {},
          "execution_count": 155
        }
      ]
    },
    {
      "cell_type": "code",
      "source": [
        "b[:TW, :TW]"
      ],
      "metadata": {
        "id": "JNDVf6sc4jOG",
        "outputId": "b2dec3c9-fc68-47e9-e366-48520fc8be9d",
        "colab": {
          "base_uri": "https://localhost:8080/"
        }
      },
      "id": "JNDVf6sc4jOG",
      "execution_count": 156,
      "outputs": [
        {
          "output_type": "execute_result",
          "data": {
            "text/plain": [
              "array([[0.27989922, 0.60145317, 0.78299314, 0.26046591],\n",
              "       [0.73731592, 0.82840753, 0.75942617, 0.23095293],\n",
              "       [0.93999189, 0.17167709, 0.83356969, 0.27438072],\n",
              "       [0.16283601, 0.60652322, 0.50471555, 0.41354838]])"
            ]
          },
          "metadata": {},
          "execution_count": 156
        }
      ]
    },
    {
      "cell_type": "code",
      "source": [
        "a[cr, ph * TW:ph * TW + TW]"
      ],
      "metadata": {
        "id": "h6KC2mPm2uMb",
        "outputId": "be5dde71-08de-4f39-f2c8-d69dc882452f",
        "colab": {
          "base_uri": "https://localhost:8080/"
        }
      },
      "id": "h6KC2mPm2uMb",
      "execution_count": 145,
      "outputs": [
        {
          "output_type": "execute_result",
          "data": {
            "text/plain": [
              "array([0.99740093, 0.37985005, 0.32674019, 0.38896543])"
            ]
          },
          "metadata": {},
          "execution_count": 145
        }
      ]
    },
    {
      "cell_type": "code",
      "source": [
        "b[ph * TW: ph * TW + TW, cc]"
      ],
      "metadata": {
        "id": "mBHoPDpt2eL5",
        "outputId": "b2f4469f-aa85-46ec-80e9-6038f8ccb832",
        "colab": {
          "base_uri": "https://localhost:8080/"
        }
      },
      "id": "mBHoPDpt2eL5",
      "execution_count": 146,
      "outputs": [
        {
          "output_type": "execute_result",
          "data": {
            "text/plain": [
              "array([0.10424338, 0.629821  , 0.29719875, 0.98563026])"
            ]
          },
          "metadata": {},
          "execution_count": 146
        }
      ]
    },
    {
      "cell_type": "markdown",
      "source": [
        "## Example with barrier semaphore"
      ],
      "metadata": {
        "id": "dsjhO-jWe0qS"
      },
      "id": "dsjhO-jWe0qS"
    },
    {
      "cell_type": "code",
      "source": [
        "import string\n",
        "import time\n",
        "\n",
        "from itertools import cycle, islice\n",
        "from concurrent.futures import ThreadPoolExecutor\n",
        "from threading import Barrier\n",
        "\n",
        "def print_thread_id(letter, buffer, signalb):\n",
        "    idx = signalb.wait()\n",
        "    buffer[idx] = letter\n",
        "    signalb.wait()\n",
        "    if idx == 0:\n",
        "        print(\"\".join(buffer))\n",
        "    time.sleep(1)\n",
        "    \"\"\"Prints the ID of the current thread.\"\"\"\n",
        "    # print(f\"Thread ID: {threading.get_ident()}\")\n",
        "\n",
        "# Create a ThreadPoolExecutor with 10 threads\n",
        "_nw = 16\n",
        "with ThreadPoolExecutor(max_workers=_nw) as executor:\n",
        "    # Submit the print_thread_id function to the executor 10 times\n",
        "    signalb = Barrier(_nw)\n",
        "    buffer = _nw * [\"\"]\n",
        "    for letter in islice(cycle(string.ascii_letters), 10 * _nw):\n",
        "        executor.submit(print_thread_id, letter, buffer, signalb)"
      ],
      "metadata": {
        "colab": {
          "base_uri": "https://localhost:8080/"
        },
        "id": "f4Ye9qQtWV5Z",
        "outputId": "4dfdc505-9324-486d-89a9-ff8eaa874fdf"
      },
      "id": "f4Ye9qQtWV5Z",
      "execution_count": 92,
      "outputs": [
        {
          "output_type": "stream",
          "name": "stdout",
          "text": [
            "abcdefghijklmnop\n",
            "qrstuvwxyzABCDEF\n",
            "GHIJKLMNOPQRSTUV\n",
            "WXYZabcdefghijkl\n",
            "mnopqrstuvwxyzAB\n",
            "CDEFGHIJKLMNOPQR\n",
            "STUVWXYZabcdefgh\n",
            "ijklmnopqrstuvwx\n",
            "yzABCDEFGHIJKLMN\n",
            "OPQRSTUVWXYZabcd\n"
          ]
        }
      ]
    },
    {
      "cell_type": "markdown",
      "source": [
        "## Runner"
      ],
      "metadata": {
        "id": "Mcq0vCeM6elw"
      },
      "id": "Mcq0vCeM6elw"
    },
    {
      "cell_type": "code",
      "source": [
        "def threaded_2d_runner(block_size, thread_size, fn, *args):\n",
        "    mw = thread_size.x  * thread_size.y\n",
        "    # print(mw)\n",
        "    for by in range(block_size.y):\n",
        "        for bx in range(block_size.x):\n",
        "            with ThreadPoolExecutor(max_workers=mw) as executor:\n",
        "                singalb = Barrier(mw)\n",
        "                for ty in range(thread_size.y):\n",
        "                    for tx in range(thread_size.x):\n",
        "                        executor.submit(fn, Dim3(x=bx, y=by), Dim3(x=tx, y=ty), thread_size, signalb, *args)"
      ],
      "metadata": {
        "id": "gMgIt1GEYnJx"
      },
      "id": "gMgIt1GEYnJx",
      "execution_count": 176,
      "outputs": []
    },
    {
      "cell_type": "markdown",
      "source": [
        "## Run Test"
      ],
      "metadata": {
        "id": "8lhHi09z6hAq"
      },
      "id": "8lhHi09z6hAq"
    },
    {
      "cell_type": "code",
      "source": [
        "ar, ak = a.shape\n",
        "bk, bc = b.shape\n",
        "res_ab = np.zeros((ar, bc))\n",
        "mem = np.zeros((2 * TW, TW))"
      ],
      "metadata": {
        "id": "LVBxEyBohCXC"
      },
      "id": "LVBxEyBohCXC",
      "execution_count": 178,
      "outputs": []
    },
    {
      "cell_type": "code",
      "source": [
        "threaded_2d_runner(block_size, thread_size, tiled_kernel, a.flatten(), b.flatten(), res_ab.ravel(), ar, bc, ak, mem.ravel())"
      ],
      "metadata": {
        "id": "HTK27VEvhour"
      },
      "id": "HTK27VEvhour",
      "execution_count": 179,
      "outputs": []
    },
    {
      "cell_type": "code",
      "source": [
        "assert np.allclose(ab, res_ab)"
      ],
      "metadata": {
        "id": "3smgFsbdjFm2"
      },
      "id": "3smgFsbdjFm2",
      "execution_count": 180,
      "outputs": []
    },
    {
      "cell_type": "markdown",
      "source": [
        "## Translate to CUDA\n",
        "\n",
        "We will follow some parts from the previous example"
      ],
      "metadata": {
        "id": "pRYeGlCr7ELL"
      },
      "id": "pRYeGlCr7ELL"
    },
    {
      "cell_type": "markdown",
      "source": [
        "## Numba\n",
        "\n",
        "Numba python library allows for cuda kernel development in python with some extra tools."
      ],
      "metadata": {
        "id": "x-idoIKh65bZ"
      },
      "id": "x-idoIKh65bZ"
    },
    {
      "cell_type": "code",
      "source": [],
      "metadata": {
        "id": "O5NQSx5B63nE"
      },
      "id": "O5NQSx5B63nE",
      "execution_count": null,
      "outputs": []
    }
  ],
  "metadata": {
    "language_info": {
      "name": "python"
    },
    "colab": {
      "provenance": []
    },
    "kernelspec": {
      "name": "python3",
      "display_name": "Python 3"
    }
  },
  "nbformat": 4,
  "nbformat_minor": 5
}