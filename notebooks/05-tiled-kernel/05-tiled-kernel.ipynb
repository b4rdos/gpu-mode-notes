{
  "cells": [
    {
      "cell_type": "markdown",
      "id": "7e1d7ad8",
      "metadata": {
        "id": "7e1d7ad8"
      },
      "source": [
        "# Tiled Kernel\n",
        "The notebook follows the video from GPU Mode:\n",
        "\n",
        "[Lecture 5: Going Further with CUDA for Python Programmers](https://www.youtube.com/watch?v=wVsR-YhaHlM)"
      ]
    },
    {
      "cell_type": "code",
      "execution_count": null,
      "id": "d37b7d85",
      "metadata": {
        "vscode": {
          "languageId": "plaintext"
        },
        "id": "d37b7d85"
      },
      "outputs": [],
      "source": [
        "!pip install ninja"
      ]
    },
    {
      "cell_type": "code",
      "execution_count": null,
      "id": "d9975e46",
      "metadata": {
        "vscode": {
          "languageId": "plaintext"
        },
        "id": "d9975e46"
      },
      "outputs": [],
      "source": [
        "!nvidia-smi"
      ]
    },
    {
      "cell_type": "code",
      "execution_count": null,
      "id": "0b8b000c",
      "metadata": {
        "vscode": {
          "languageId": "plaintext"
        },
        "id": "0b8b000c"
      },
      "outputs": [],
      "source": [
        "def in_colab() -> bool:\n",
        "    try:\n",
        "        import google.colab\n",
        "        return True\n",
        "    except ImportError:\n",
        "        return False\n",
        "\n",
        "\n",
        "IN_COLAB = in_colab()"
      ]
    },
    {
      "cell_type": "code",
      "source": [
        "import numpy as np"
      ],
      "metadata": {
        "id": "30qFjM1c5loE"
      },
      "id": "30qFjM1c5loE",
      "execution_count": 1,
      "outputs": []
    },
    {
      "cell_type": "code",
      "source": [
        "np.random.seed(20250811)\n",
        "\n",
        "a = np.random.rand(1024, 512)\n",
        "b = np.random.rand(512, 128)\n",
        "ab = a @ b"
      ],
      "metadata": {
        "id": "r7z87dMr5xik"
      },
      "id": "r7z87dMr5xik",
      "execution_count": 2,
      "outputs": []
    },
    {
      "cell_type": "code",
      "source": [
        "from dataclasses import dataclass\n",
        "\n",
        "@dataclass\n",
        "class Dim3:\n",
        "    x: int = 0\n",
        "    y: int = 0\n",
        "    z: int = 0\n",
        "\n",
        "# Dim3 = namedtuple(\"Dim3\", [\"x\", \"y\", \"z\"])"
      ],
      "metadata": {
        "id": "3-2jttQR6gP8"
      },
      "id": "3-2jttQR6gP8",
      "execution_count": 3,
      "outputs": []
    },
    {
      "cell_type": "code",
      "source": [
        "\n",
        "TW = 32\n",
        "TS = 32\n",
        "block_size = Dim3(\n",
        "    x=np.ceil(b.shape[1] / TS),\n",
        "    y=np.ceil(a.shape[0] / TS),\n",
        ")\n",
        "\n",
        "\n",
        "async def tiled_kernel(block_dim: Dim3, thread_dim: Dim3, thread_size: Dim3, m, n, res, r, c, k, mem, signalb):\n",
        "    \"\"\"\n",
        "\n",
        "    \"\"\"\n",
        "    bx = block_dim.x * thread_size.x\n",
        "    tx = thread_dim.x\n",
        "    cc = bx + tx\n",
        "    by = block_dim.y * thread_size.y\n",
        "    ty = thread_dim.y\n",
        "    cr = by + ty\n",
        "    for ph in range(np.ceil(k / TW)):\n",
        "        for tw in range(TW):\n",
        "            mem[ty + tw] = m[ph * TW + tw + cr * k]\n",
        "            mem[TW * TW + tx + tw] = n[(ph *  TW + tw) * c + tx]\n",
        "        signalb.wait()\n",
        "\n",
        "\n"
      ],
      "metadata": {
        "id": "4TK-e31U6Rk9"
      },
      "id": "4TK-e31U6Rk9",
      "execution_count": null,
      "outputs": []
    }
  ],
  "metadata": {
    "language_info": {
      "name": "python"
    },
    "colab": {
      "provenance": []
    },
    "kernelspec": {
      "name": "python3",
      "display_name": "Python 3"
    }
  },
  "nbformat": 4,
  "nbformat_minor": 5
}